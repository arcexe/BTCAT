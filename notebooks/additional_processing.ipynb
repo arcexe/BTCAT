{
 "cells": [
  {
   "cell_type": "markdown",
   "metadata": {},
   "source": [
    "This is the notebook for the additional files I had used in some of the other files\n",
    "\n",
    "The cell below determines the total number of returns and departures for the BMTC buses(This is the data we have got from a dataset of BMTC which is thw Bangalore metropolitan transport corporation.)\n",
    "\n",
    "Note - The transpose of a matrix is obtained by moving the rows data to the column and columns data to the rows. "
   ]
  },
  {
   "cell_type": "code",
   "execution_count": null,
   "metadata": {},
   "outputs": [],
   "source": [
    "import pandas as pd\n",
    "import numpy as np\n",
    "\n",
    "dump_data = pd.read_csv('./data/bmtc_dump.csv')\n",
    "print(dump_data)\n",
    "\n",
    "departures = dump_data['departure_from_origin']\n",
    "returns = dump_data['departure_from_destination']\n",
    "route_numbers = dump_data['route_no']\n",
    "\n",
    "print(departures)\n",
    "print(returns)\n",
    "print(route_numbers)\n",
    "\n",
    "departure_count = 0\n",
    "departures_cleaned = []\n",
    "returns_cleaned = []\n",
    "routes_list = []\n",
    "\n",
    "for m in range(0, len(departures)):\n",
    "    departure = departures[m]\n",
    "    if departure.find(\",\") != -1:\n",
    "        departure_count = departure.count(\",\") + 1\n",
    "    else:\n",
    "        departure_count = 1\n",
    "    \n",
    "    return1 = returns[m]\n",
    "    if return1.find(\",\") != -1:\n",
    "        return_count = return1.count(\",\") + 1\n",
    "    else:\n",
    "        return_count = 1\n",
    "    \n",
    "    departures_cleaned.append(departure_count)\n",
    "    returns_cleaned.append(return_count)    \n",
    "    routes_list.append(route_numbers[m])\n",
    "    \n",
    "print(departures_cleaned)\n",
    "print(returns_cleaned)\n",
    "print(routes)\n",
    "                \n",
    "trips_array = np.array([route_numbers, departures_cleaned, returns_cleaned])\n",
    "trips_transpose = trips_array.T\n",
    "trips_transpose_list = trips_transpose. tolist()\n",
    "\n",
    "temp_df = pd.DataFrame(trips_transpose_list, columns=['route_no', 'departure_from_origin', 'departure_from_destination'])\n",
    "temp_df.to_csv('trips_data.csv')\n"
   ]
  },
  {
   "cell_type": "markdown",
   "metadata": {},
   "source": [
    "This cell below calculates the average for departures and returns which would then be used to determine the number of trips for buses in a single day."
   ]
  },
  {
   "cell_type": "code",
   "execution_count": null,
   "metadata": {},
   "outputs": [],
   "source": [
    "import numpy as np\n",
    "import pandas as pd\n",
    "\n",
    "trip_data = pd.read_csv('./data/trips_data.csv')\n",
    "departures = trip_data['departure_from_origin']\n",
    "returns = trip_data['departure_from_destination']\n",
    "population_data = pd.read_csv('./data/od_final_population.csv')\n",
    "proportion = pd.read_csv('./data/proportion_data.csv')\n",
    "\n",
    "average = departures + returns // 2\n",
    "trip_data.insert(4, \"average\", average)\n",
    "print(trip_data)\n",
    "trip_data.to_csv('final_trips_data.csv')"
   ]
  },
  {
   "cell_type": "markdown",
   "metadata": {},
   "source": [
    "The cell below helps us determine the number of the total combinations of routes for the whole of Bangalore, we have made the column and saved it as 'route_combinations_count.csv'"
   ]
  },
  {
   "cell_type": "code",
   "execution_count": null,
   "metadata": {},
   "outputs": [],
   "source": [
    "import pandas as pd\n",
    "import json\n",
    "import itertools\n",
    "\n",
    "od_data = pd.read_csv('./data/od_final.csv')\n",
    "\n",
    "df = od_data.groupby(['route_num'])['route_num'].count().reset_index(name='route_counts')\n",
    "\n",
    "df.to_csv('route_combinations_count.csv')\n",
    "\n",
    "print(df.shape)"
   ]
  },
  {
   "cell_type": "markdown",
   "metadata": {},
   "source": [
    "Read the bmtc_dump and calculate the counts for the departures and returns.\n",
    "\n",
    "\n",
    "\n",
    "We proceed to transpose the columns of a list and finally store them as a csv "
   ]
  },
  {
   "cell_type": "markdown",
   "metadata": {},
   "source": [
    "The data we have used is the Bangalore's commercial activity data. If you're wondering why I have used this file it is because We can not assume that people would be moving around randomly and the chances of them going to work is higher than the cahances of them going someplace else so that is why I have used this file and get the proportion for the values and save it as a csv which I would be using in some other cells."
   ]
  },
  {
   "cell_type": "code",
   "execution_count": null,
   "metadata": {},
   "outputs": [],
   "source": [
    "import numpy as np\n",
    "import pandas as pd\n",
    "\n",
    "revenue_data = pd.read_csv('./data/ward_revenue.csv')\n",
    "revenue = revenue_data['revenue']\n",
    "\n",
    "x = revenue.sum()\n",
    "proportion = revenue/x*100\n",
    "\n",
    "revenue_data.insert(3, \"proportion\", proportion)\n",
    "\n",
    "revenue_data.to_csv('proportion_data.csv')\n",
    "print(revenue_data)\n"
   ]
  },
  {
   "cell_type": "markdown",
   "metadata": {},
   "source": [
    "Getting data for the origin ward column"
   ]
  },
  {
   "cell_type": "code",
   "execution_count": null,
   "metadata": {},
   "outputs": [],
   "source": [
    "import pandas as pd\n",
    "import json\n",
    "import itertools\n",
    "\n",
    "od_data = pd.read_csv('./data/od_final.csv')\n",
    "\n",
    "df = od_data.groupby(['destination_ward','origin_ward'])['route_num'].count().reset_index(name='route_counts')\n",
    "\n",
    "df = df.rename(columns={'destination_ward': 'ward_no'})\n",
    "\n",
    "print(df)\n",
    "\n",
    "df.to_csv('origin_wards.csv')\n"
   ]
  }
 ],
 "metadata": {
  "kernelspec": {
   "display_name": "Python 3",
   "language": "python",
   "name": "python3"
  },
  "language_info": {
   "codemirror_mode": {
    "name": "ipython",
    "version": 3
   },
   "file_extension": ".py",
   "mimetype": "text/x-python",
   "name": "python",
   "nbconvert_exporter": "python",
   "pygments_lexer": "ipython3",
   "version": "3.7.7"
  }
 },
 "nbformat": 4,
 "nbformat_minor": 4
}
