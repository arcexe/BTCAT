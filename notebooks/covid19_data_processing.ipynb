{
 "cells": [
  {
   "cell_type": "markdown",
   "metadata": {},
   "source": [
    "This is the second notebook that is used to process the data here\n",
    "\n",
    "Now that we've generated the file od_dsummary which was made in the last notebook, let's make use of it\n",
    "\n",
    "\n",
    "Sometimes data can't be perfect and have everything present in it, and it was the same case for me as well and in my case we had some rows empty and some parts of the column missing like 'origin_ward', 'destination_ward'.\n",
    "The below cell filters all the rows which have everything present and nothing missing and stores them as the file od_summary_final.csv\n",
    "\n",
    "csv stands for 'comma separated values' which is a file extension. You amy have seen some extensions while you were saving a file for example: '.txt', '.pptx', '.pdf'\n"
   ]
  },
  {
   "cell_type": "code",
   "execution_count": 14,
   "metadata": {},
   "outputs": [
    {
     "name": "stdout",
     "output_type": "stream",
     "text": [
      "656913\n",
      "         Unnamed: 0 route_num  origin_lat  origin_lon  destination_lat  \\\n",
      "0                 0         1   12.919757   77.592359        12.922689   \n",
      "1                 1         1   12.919757   77.592359        12.923186   \n",
      "2                 2         1   12.919757   77.592359        12.927960   \n",
      "3                 3         1   12.919757   77.592359        12.928483   \n",
      "4                 4         1   12.919757   77.592359        12.931778   \n",
      "...             ...       ...         ...         ...              ...   \n",
      "1053477     1053477     600CF   12.916698   77.603467        12.916642   \n",
      "1053478     1053478     600CF   12.916698   77.603467        12.916363   \n",
      "1053480     1053480     600CF   12.916705   77.606742        12.916642   \n",
      "1053481     1053481     600CF   12.916705   77.606742        12.916363   \n",
      "1053483     1053483     600CF   12.916642   77.609039        12.916363   \n",
      "\n",
      "         destination_lon  origin_ward  destination_ward  \n",
      "0              77.593385        168.0             168.0  \n",
      "1              77.588772        168.0             168.0  \n",
      "2              77.587604        168.0             169.0  \n",
      "3              77.584210        168.0             168.0  \n",
      "4              77.583906        168.0             169.0  \n",
      "...                  ...          ...               ...  \n",
      "1053477        77.609039        176.0             171.0  \n",
      "1053478        77.615991        176.0             176.0  \n",
      "1053480        77.609039        171.0             171.0  \n",
      "1053481        77.615991        171.0             176.0  \n",
      "1053483        77.615991        171.0             176.0  \n",
      "\n",
      "[656913 rows x 8 columns]\n"
     ]
    }
   ],
   "source": [
    "import pandas as pd\n",
    "import json\n",
    "import itertools\n",
    "od_data = pd.read_csv('./data/od_summary.csv')\n",
    "\n",
    "mask = od_data['origin_ward'].notnull() & od_data['destination_ward'].notnull()\n",
    "df = od_data[mask]\n",
    "print(len(df))    \n",
    "df.to_csv('od_summary_final.csv', index=False)\n",
    "print(df)"
   ]
  },
  {
   "cell_type": "markdown",
   "metadata": {},
   "source": [
    "We are now going to get the file that we had generated in the above cell and load the columns and reindex them, meaning\n",
    "the data gets reversed, what that means is that, let's say for example the origin_ward and destination column and use the reindex function, and now that we have reindexed them the data under origin_ward goes to destination ward and vice versa and store the data we just got a csv as well\n",
    "\n",
    "Now you might be wondering why I have made this cell so here's the reason, Since vehicles travel the both ways, we can not assume that people will travel in a single direction so that is why we have performed this action and yes I have stored this as a csv as well since we will be using this later in the below cells\n",
   ]
  },
  {
   "cell_type": "code",
   "execution_count": 83,
   "metadata": {},
   "outputs": [
    {
     "name": "stdout",
     "output_type": "stream",
     "text": [
      "route_num           656913\n",
      "origin_lat          656913\n",
      "origin_lon          656913\n",
      "destination_lat     656913\n",
      "destination_lon     656913\n",
      "origin_ward         656913\n",
      "destination_ward    656913\n",
      "dtype: int64\n"
     ]
    }
   ],
   "source": [
    "import pandas as pd\n",
    "import json\n",
    "import itertools\n",
    "\n",
    "od_data = pd.read_csv('./data/od_summary_final.csv')\n",
    "\n",
    "column_names = [\"route_num\",\"destination_lat\",\"destination_lon\",\"origin_lat\",\"origin_lon\",\"destination_ward\",\"origin_ward\"]\n",
    "\n",
    "#reverse the OD by reorganizing the columns - this is for reverse direction\n",
    "df = od_data.reindex(columns=column_names)\n",
    "\n",
    "#rename the columns\n",
    "df = df.rename(columns={'destination_lat': 'origin_lat', 'destination_lon': 'origin_lon', 'origin_lat': 'destination_lat', 'origin_lon': 'destination_lon', 'destination_ward': 'origin_ward', 'origin_ward': 'destination_ward'})\n",
    "\n",
    "df.to_csv('od_summary_reverse_direction.csv', index=False)\n",
    "print(df.count())\n"
   ]
  },
  {
   "cell_type": "markdown",
   "metadata": {},
   "source": [
    "Another note we should make is that whenever we generate csv(s) there sometimes may be an additional column called '^Unnamed' and since we do not require that I am gonna remove it, Let's see how we can do that in the below cell and since we do not want the change we made to be lost we have saved it as csv\n",
    
   ]
  },
  {
   "cell_type": "code",
   "execution_count": 84,
   "metadata": {},
   "outputs": [
    {
     "name": "stdout",
     "output_type": "stream",
     "text": [
      "route_num           1313826\n",
      "origin_lat          1313826\n",
      "origin_lon          1313826\n",
      "destination_lat     1313826\n",
      "destination_lon     1313826\n",
      "origin_ward         1313826\n",
      "destination_ward    1313826\n",
      "dtype: int64\n"
     ]
    }
   ],
   "source": [
    "import pandas as pd\n",
    "import json\n",
    "import itertools\n",
    "\n",
    "od_data1 = pd.read_csv('./data/od_summary_final.csv', index_col=False)\n",
    "od_data2 = pd.read_csv('./data/od_summary_reverse_direction.csv', index_col=False)\n",
    "\n",
    "\n",
    "od_data = od_data1.append(od_data2)\n",
    "od_data = od_data.reset_index(drop=True)\n",
    "\n",
    "od_data = od_data.loc[:, ~od_data.columns.str.contains('^Unnamed')]\n",
    "\n",
    "od_data.to_csv('od_final.csv', index=False)\n",
    "print(od_data.count())\n"
   ]
  },
  {
   "cell_type": "markdown",
   "metadata": {},
   "source": [
    "We read the data from the above cell and used the group function on the columns destination_ward, origin_ward, route_num. A groupby operation involves some combination of splitting the object, applying a function, and combining the results.\n",
   ]
  },
  {
   "cell_type": "code",
   "execution_count": 85,
   "metadata": {
    "scrolled": true
   },
   "outputs": [
    {
     "name": "stdout",
     "output_type": "stream",
     "text": [
      "        ward_no  origin_ward route_num  route_counts\n",
      "0           1.0          1.0       281             6\n",
      "1           1.0          1.0      281G            12\n",
      "2           1.0          1.0      281K            12\n",
      "3           1.0          1.0       282            12\n",
      "4           1.0          1.0      282A            12\n",
      "...         ...          ...       ...           ...\n",
      "251441    198.0        198.0     502HC            30\n",
      "251442    198.0        198.0      502V             2\n",
      "251443    198.0        198.0     FDR-7            12\n",
      "251444    198.0        198.0       G-6            12\n",
      "251445    198.0        198.0   MP-501A             6\n",
      "\n",
      "[251446 rows x 4 columns]\n"
     ]
    }
   ],
   "source": [
    "import pandas as pd\n",
    "import json\n",
    "import itertools\n",
    "\n",
    "od_data = pd.read_csv('./data/od_final.csv')\n",
    "\n",
    "df = od_data.groupby(['destination_ward','origin_ward', 'route_num'])['route_num'].count().reset_index(name='route_counts')\n",
    "\n",
    "df = df.rename(columns={'destination_ward': 'ward_no'})\n",
    "\n",
    "print(df)\n",
    "\n",
    "df.to_csv('od_final_grouped.csv')\n"
   ]
  },
  {
   "cell_type": "markdown",
   "metadata": {},
   "source": [
    "We read a csv which contains the population of the wards, and we convert some of the columns 'ward_no', 'origin_ward' and 'route_counts' to an integer as they are floats(decimals, we call them floats in programming languages). You also might be wondering what I meant by route counts, they are nothing but the total number of od_combinations.\n",
    "\n",
    "We then continue to merge the columns of df and the population data and then calculate the population for the origin_wards. “Merging” two datasets is the process of bringing two datasets together into one, and aligning the rows from each based on common attributes or columns. \n",
    "and insert the column we just calculated which is 'origin_population' to the merged data and store it as a csv"
   ]
  },
  {
   "cell_type": "code",
   "execution_count": 86,
   "metadata": {},
   "outputs": [
    {
     "name": "stdout",
     "output_type": "stream",
     "text": [
      "                    ward_name  ward_no  population\n",
      "0                  Kempegowda        1       34783\n",
      "1                Chowdeshwari        2       36602\n",
      "2                       Attur        3       58129\n",
      "3    Yelahanka Satellite Town        4       41986\n",
      "4                      Jakkur        5       52025\n",
      "..                        ...      ...         ...\n",
      "193                 Gottigere      194       51911\n",
      "194               Konanakunte      195       57335\n",
      "195                 Anjanapur      196       45608\n",
      "196              Vasanthapura      197       62057\n",
      "197               Hemmigepura      198       50440\n",
      "\n",
      "[198 rows x 3 columns]\n",
      "        ward_no  population  origin_ward  origin_population route_num  \\\n",
      "0             1       34783            1              34783       281   \n",
      "1             1       34783            1              34783      281G   \n",
      "2             1       34783            1              34783      281K   \n",
      "3             1       34783            1              34783       282   \n",
      "4             1       34783            1              34783      282A   \n",
      "...         ...         ...          ...                ...       ...   \n",
      "251441      198       50440          198              50440     502HC   \n",
      "251442      198       50440          198              50440      502V   \n",
      "251443      198       50440          198              50440     FDR-7   \n",
      "251444      198       50440          198              50440       G-6   \n",
      "251445      198       50440          198              50440   MP-501A   \n",
      "\n",
      "        route_counts  \n",
      "0                  6  \n",
      "1                 12  \n",
      "2                 12  \n",
      "3                 12  \n",
      "4                 12  \n",
      "...              ...  \n",
      "251441            30  \n",
      "251442             2  \n",
      "251443            12  \n",
      "251444            12  \n",
      "251445             6  \n",
      "\n",
      "[251446 rows x 6 columns]\n",
      "ward_no              251446\n",
      "population           251446\n",
      "origin_ward          251446\n",
      "origin_population    251446\n",
      "route_num            251446\n",
      "route_counts         251446\n",
      "dtype: int64\n"
     ]
    }
   ],
   "source": [
    "import pandas as pd\n",
    "import json\n",
    "import itertools\n",
    "\n",
    "population_data = pd.read_csv('./data/ward_population.csv')\n",
    "population_data = population_data.sort_values(by ='ward_no', ascending=True)\n",
    "population_data = population_data.reset_index(drop=True)\n",
    "print(population_data)\n",
    "\n",
    "od_data = pd.read_csv(\"./data/od_final_grouped.csv\")\n",
    "\n",
    "convert_dict = {'ward_no': int,'origin_ward': int,'route_counts': int}\n",
    "\n",
    "df = od_data.astype(convert_dict)\n",
    "df3 = pd.merge(df,population_data)[['ward_no', 'population', 'origin_ward', 'route_num', 'route_counts']]\n",
    "\n",
    "origin_wards = df3['origin_ward']\n",
    "\n",
    "origin_population = []\n",
    "\n",
    "for m in range(0, len(origin_wards)):\n",
    "    origin_ward = origin_wards[m]\n",
    "    ward_index = int(origin_ward) - 1\n",
    "    pop = population_data.at[ward_index, 'population']\n",
    "\n",
    "    origin_population.append(pop)\n",
    "\n",
    "df3.insert(3, \"origin_population\", origin_population, True)\n",
    "print(df3)\n",
    "df3.to_csv('od_final_population.csv', index=False)\n",
    "print(df3.count())"
   ]
  },
  {
   "cell_type": "markdown",
   "metadata": {},
   "source": [
    "We are now going to calculate the populations for the origins but before that we need to merge some data to do so since origin ward is the part of some other file"
    "Now that we have merged them together successfully we are now going to continue to get the populations for all the origins and insert the data we just got as a column in one of the fioles and now are going to save the merged and inserted data into a csv since we do not want to lose the data/n"
  
   ]
  },
  {
   "cell_type": "code",
   "execution_count": 112,
   "metadata": {},
   "outputs": [
    {
     "name": "stdout",
     "output_type": "stream",
     "text": [
      "0       17\n",
      "1        6\n",
      "2        9\n",
      "3       13\n",
      "4       69\n",
      "        ..\n",
      "2047    24\n",
      "2048     3\n",
      "2049    73\n",
      "2050    22\n",
      "2051    67\n",
      "Length: 2052, dtype: int64\n"
     ]
    }
   ],
   "source": [
    "import numpy as np\n",
    "import pandas as pd\n",
    "\n",
    "final_trip_data = pd.read_csv('./data/final_trips_data.csv')\n",
    "departures = trip_data['departure_from_origin']\n",
    "returns = trip_data['departure_from_destination']\n",
    "population_data = pd.read_csv('./data/od_final_population.csv')\n",
    "proportion = pd.read_csv('./data/proportion_data.csv')\n",
    "\n",
    "population_data.rename(columns={'route_num':'route_no'}, inplace=True)\n",
    "final_data = pd.merge(population_data, proportion)[['ward_no', 'proportion', 'population', 'origin_ward', 'origin_population', 'route_no', 'route_counts']]\n",
    "final_data_1 = pd.merge(final_data, final_trip_data)[['ward_no', 'proportion', 'population', 'origin_ward', 'origin_population', 'route_no', 'average', 'route_counts']]\n",
    "\n",
    "final_data_1.to_csv('final_data.csv')\n",
    "\n",
    "\n",
    "print(average)"
   ]
  },
  
   "cell_type": "markdown",
   "metadata": {},
   "source": [
    "Making the final_data which consists of files from another jupyter notebook that I had generated in another one of the notebooks I had uploaded\n",
   ]
  },
  {
   "cell_type": "markdown",
   "metadata": {},
   "source": [
    "Now with all the data we just collected let's generate the OD matrix, which describes people's movement in a certain area.\n",
    "\n"
   ]
  },
  {
   "cell_type": "code",
   "execution_count": 17,
   "metadata": {},
   "outputs": [
    {
     "name": "stdout",
     "output_type": "stream",
     "text": [
      "     ward_no  proportion  counts  mobility  proportion_factor\n",
      "0          1    0.308801    5936    4057.0           0.683457\n",
      "1          2    0.231858    6502    3046.0           0.468471\n",
      "2          3    0.469659    6861    6170.0           0.899286\n",
      "3          4    0.566847   16272    7447.0           0.457657\n",
      "4          5    0.869918    4409   11429.0           2.592198\n",
      "..       ...         ...     ...       ...                ...\n",
      "191      194    0.358945    4189    4715.0           1.125567\n",
      "192      195    0.542346    2802    7125.0           2.542827\n",
      "193      196    0.213809    2118    2809.0           1.326251\n",
      "194      197    0.530433   12019    6968.0           0.579749\n",
      "195      198    0.982558   16738   12909.0           0.771239\n",
      "\n",
      "[196 rows x 5 columns]\n",
      "        ward_no  proportion_factor  origin_ward route_no  route_counts\n",
      "0             1           0.683457            1      281             6\n",
      "1             1           0.683457            1     281G            12\n",
      "2             1           0.683457            1     281K            12\n",
      "3             1           0.683457            1      282            12\n",
      "4             1           0.683457            1     282A            12\n",
      "...         ...                ...          ...      ...           ...\n",
      "251441      198           0.771239          198    502HC            30\n",
      "251442      198           0.771239          198     502V             2\n",
      "251443      198           0.771239          198    FDR-7            12\n",
      "251444      198           0.771239          198      G-6            12\n",
      "251445      198           0.771239          198  MP-501A             6\n",
      "\n",
      "[251446 rows x 5 columns]\n",
      "       ward_no  proportion_factor  origin_ward  total  movement\n",
      "0            1           0.683457            1    608       415\n",
      "1            1           0.683457            2    105        71\n",
      "2            1           0.683457            3    227       155\n",
      "3            1           0.683457            4    636       434\n",
      "4            1           0.683457            5    331       226\n",
      "...        ...                ...          ...    ...       ...\n",
      "18740      198           0.771239          192     80        61\n",
      "18741      198           0.771239          194     60        46\n",
      "18742      198           0.771239          196     50        38\n",
      "18743      198           0.771239          197   1578      1217\n",
      "18744      198           0.771239          198   3238      2497\n",
      "\n",
      "[18745 rows x 5 columns]\n",
      "(196, 196)\n"
     ]
    }
   ],
   "source": [
    "import pandas as pd\n",
    "\n",
    "od_data = pd.read_csv('./data/od_final_population.csv')\n",
    "proportion = pd.read_csv('./data/proportion_data.csv')\n",
    "\n",
    "od_data.rename(columns={'route_num':'route_no'}, inplace=True)\n",
    "\n",
    "pre_data = od_data.groupby(['ward_no'])['route_counts'].sum().reset_index(name='counts')\n",
    "\n",
    "pre_data = pd.merge(pre_data, proportion)[['ward_no', 'proportion', 'counts']]\n",
    "\n",
    "proportaions = pre_data['proportion']\n",
    "\n",
    "mobility = (proportaions * 1313826) // 100\n",
    "\n",
    "proportion_factor = mobility / pre_data['counts']\n",
    "\n",
    "pre_data.insert(3, \"mobility\", mobility)\n",
    "pre_data.insert(4, \"proportion_factor\", proportion_factor)\n",
    "\n",
    "print(pre_data)\n",
    "\n",
    "final_data = pd.merge(od_data, pre_data)[['ward_no', 'proportion_factor', 'origin_ward', 'route_no', 'route_counts']]\n",
    "\n",
    "print(final_data)\n",
    "\n",
    "final_data.to_csv('od_data.csv')\n",
    "\n",
    "matrix_data = final_data.groupby(['ward_no','origin_ward'])['route_counts'].sum().reset_index(name='total')\n",
    "\n",
    "df = pd.merge(matrix_data, pre_data)[['ward_no', 'proportion_factor', 'origin_ward', 'total']]\n",
    "\n",
    "movement = df['proportion_factor'] * df['total']\n",
    "\n",
    "df.insert(4, \"movement\", movement.astype(int))\n",
    "\n",
    "print(df)\n",
    "\n",
    "df.to_csv('matrix_data.csv')\n",
    "\n",
    "odm_data = df.groupby(['ward_no','origin_ward'])['movement'].sum().reset_index(name='route_counts')\n",
    "\n",
    "dfm = pd.pivot_table(odm_data, index=['ward_no'], columns=\"origin_ward\", values=\"route_counts\")\n",
    "\n",
    "dfm.to_csv('od_matrix.csv')\n",
    "\n",
    "print(dfm.shape)\n",
    "\n",
    "#2 columns are missing of 198 as these wards do not have any data\n",
    "#add these 2 manually after generating the above file\n"
   ]
  },
  {
   "cell_type": "code",
   "execution_count": 3,
   "metadata": {},
   "outputs": [],
   "source": []
  },
  {
   "cell_type": "code",
   "execution_count": null,
   "metadata": {},
   "outputs": [],
   "source": []
  }
 ],
 "metadata": {
  "kernelspec": {
   "display_name": "Python 3",
   "language": "python",
   "name": "python3"
  },
  "language_info": {
   "codemirror_mode": {
    "name": "ipython",
    "version": 3
   },
   "file_extension": ".py",
   "mimetype": "text/x-python",
   "name": "python",
   "nbconvert_exporter": "python",
   "pygments_lexer": "ipython3",
   "version": "3.7.7"
  }
 },
 "nbformat": 4,
 "nbformat_minor": 4
}
